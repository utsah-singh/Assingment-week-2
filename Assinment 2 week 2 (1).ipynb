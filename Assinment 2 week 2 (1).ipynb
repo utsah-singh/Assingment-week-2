{
 "cells": [
  {
   "cell_type": "markdown",
   "id": "385b11d2-944c-4a47-a85c-1248807e147d",
   "metadata": {},
   "source": [
    "answer = 1\n",
    "\n"
   ]
  },
  {
   "cell_type": "markdown",
   "id": "d0c72a25-bd38-4989-b2b7-1f90003b094b",
   "metadata": {},
   "source": [
    "Python are two mains types of comments : single- line comments and multi - line comments.\n",
    "Single - Line Commentes:\n",
    "Single - line comments are used for brief explanations on a single line. You can create a single - line comment by using the ' # ' symbol.Anything following ' # ' on the same line is considered a comment"
   ]
  },
  {
   "cell_type": "code",
   "execution_count": 2,
   "id": "75c94ad2-3443-4b6f-bc74-ac5f42803f18",
   "metadata": {},
   "outputs": [],
   "source": [
    "# This is a single - line comment\n",
    "variable = 42 # You can also addd comments after code"
   ]
  },
  {
   "cell_type": "markdown",
   "id": "59cb3869-77c3-4aa2-acbe-7a8b3c9cb727",
   "metadata": {},
   "source": [
    "Multi - Line Comments (Docstring):\n",
    "Python does not have a specific syntex for multi - line comments like some other programming language . However , you can use multi - line strings ( enclosed in triple quotes) to create multi - line comments. These are often referred to as docstrings and are commonly used for documenting functions , classes , or modules. Docstrings are especially useful because they can be accessed at runtime for generating documentation..\n"
   ]
  },
  {
   "cell_type": "code",
   "execution_count": 3,
   "id": "2d2aac39-1919-41fd-a075-a6208db2d9bf",
   "metadata": {},
   "outputs": [],
   "source": [
    "\"\"\"\n",
    "\n",
    "This is a multi - line comment using triple quotes . \n",
    "It's typically used for documenting function , classes , or modules.\n",
    "\"\"\"\n",
    "\n",
    "\n",
    "\n",
    "def my_function():\n",
    "    \"\"\"\n",
    "    This is a docstring for the function ' my_function ' .\n",
    "    It provides information about what the function does.\n",
    "    \"\"\"\n",
    "    \n",
    "    pass"
   ]
  },
  {
   "cell_type": "markdown",
   "id": "d40add5f-9823-4881-b650-10d5b971df67",
   "metadata": {},
   "source": [
    "Answer== 2\n"
   ]
  },
  {
   "cell_type": "markdown",
   "id": "d86196d5-40e4-467b-b8c7-924dada3d141",
   "metadata": {},
   "source": [
    "In Python, variables are used to store and manage data. A variable is like a labeled container that holds a value, and these values can be of various types, such as numbers, strings, lists, or even complex objects. Variables are crucial for performing operations and storing information in your Python programs.\n",
    "\n",
    "Here's how you declare and assign values to variables in Python:\n",
    "\n",
    " 1.Variable Declaration:\n",
    "In Python, you don't need to explicitly declare the data type of a variable. You simply provide a name for the variable, and Python infers its data type based on the value assigned to it. Variable names should follow these rules:\n",
    "\n",
    "Must start with a letter (a-z, A-Z) or an underscore (_).\n",
    "Can contain letters, numbers, and underscores.\n",
    "Variable names are case-sensitive, meaning 'myVar' and 'myvar' are considered different variables.\n",
    "2 . Assigning Values:\n",
    "You can assign values to variables using the assignment operator'='."
   ]
  },
  {
   "cell_type": "code",
   "execution_count": null,
   "id": "fd3e9897-a634-4b04-bc7f-b082ae8cbc24",
   "metadata": {},
   "outputs": [],
   "source": [
    "# Variable assignment \n",
    "my_var = 42\n",
    "name = \"John Doe\"\n",
    "fruits = [ \"apple\", \"banana\", \"cherry\"]"
   ]
  },
  {
   "cell_type": "code",
   "execution_count": null,
   "id": "028197df-5684-49be-995b-e57d3729b70b",
   "metadata": {},
   "outputs": [],
   "source": [
    "3 . Reassing Values :\n",
    "\n",
    "You can change thr valu of a variable by simply assiging it a new value."
   ]
  },
  {
   "cell_type": "code",
   "execution_count": 1,
   "id": "a3f25b48-34ad-43d7-a5bc-fbf3c697f146",
   "metadata": {},
   "outputs": [],
   "source": [
    "my_var = 42 # Intial assignment\n",
    "my_var = 100 #Reassignment"
   ]
  },
  {
   "cell_type": "code",
   "execution_count": null,
   "id": "d4678d10-1285-46be-b0c0-01e3213b420d",
   "metadata": {},
   "outputs": [],
   "source": [
    "4 . Multiple Assinments:\n",
    "\n",
    "Python aalows you to assign multiple variable in a single line .\n"
   ]
  },
  {
   "cell_type": "code",
   "execution_count": 2,
   "id": "1a858118-8f68-4cac-afb8-bfe4cf253f3e",
   "metadata": {},
   "outputs": [],
   "source": [
    "a , b , c = 1 , 2 , 3"
   ]
  },
  {
   "cell_type": "code",
   "execution_count": null,
   "id": "929dc2ce-38a9-4388-9392-34f21e2591a8",
   "metadata": {},
   "outputs": [],
   "source": [
    "5 . Swapping Variables:\n",
    "\n",
    "You can swap the values of two variables without using a temporary variable in python."
   ]
  },
  {
   "cell_type": "code",
   "execution_count": 3,
   "id": "7f03c505-c8c1-4040-ba67-f3215313ab0e",
   "metadata": {},
   "outputs": [],
   "source": [
    "x, y = 5, 10\n",
    "\n",
    "x, y = y, x  # Swap the values of x and y"
   ]
  },
  {
   "cell_type": "markdown",
   "id": "393660c7-52b0-415e-a617-e126a0ebe2c7",
   "metadata": {},
   "source": [
    "Answer==3"
   ]
  },
  {
   "cell_type": "markdown",
   "id": "1a2821a8-0d04-4ec9-af73-bb50c82ad5e4",
   "metadata": {},
   "source": [
    "1. IMPLICT TYPE CONVERSION(Coercion):\n",
    "\n",
    "Python performs some type conversions automatically when it's safe to do so. For example, if you add an integer and a float, Python will conert the integer to a float before performingthe addition."
   ]
  },
  {
   "cell_type": "code",
   "execution_count": 5,
   "id": "6685efb7-b741-42f4-958a-7bc73b3de9f8",
   "metadata": {},
   "outputs": [],
   "source": [
    "int_var = 5 \n",
    "float_var = 3.14\n",
    "\n",
    "\n",
    "result = int_var + float_var # Implict conversion of int to float"
   ]
  },
  {
   "cell_type": "code",
   "execution_count": null,
   "id": "0c1ba1a7-ff11-464c-95bc-15ec071833c5",
   "metadata": {},
   "outputs": [],
   "source": [
    "Explicit Type Conversion (Type Casting):\n",
    "\n",
    "You can explicitly convert one data type to another using various type casting functions.\n",
    "Here are some commonly used functions:\n",
    "\n",
    ". 'int()' :Converts a value to an integer.\n",
    ". 'float' :Convert a value to an float.\n",
    ". 'str()' :Convert a value to an string.\n",
    ". 'list()' :Convert a sequence (e.g., tuple or string) to a list.\n",
    ". 'tuple()' :Convert a seequence to a tuple.\n",
    ". 'set()' : Convert a sequence or list to a set.\n",
    ". 'dict()' :Convert a sequence of key- value pairs to a dictionary."
   ]
  },
  {
   "cell_type": "code",
   "execution_count": 8,
   "id": "dc95bb35-93d2-44d8-b6d2-3887f5fb37b6",
   "metadata": {},
   "outputs": [],
   "source": [
    "# Explict tyoe casting\n",
    "\n",
    "float_num = 3.14\n",
    "int_num = int(float_num) # Converts the float to an integer \n",
    "\n",
    "\n",
    "str_num = \"42\"\n",
    "int_from_str = int(str_num) # Converts the strin to an integer\n",
    "\n",
    "\n",
    "my_list = [1,2,3]\n",
    "my_tuple = tuple(my_list) # Converts a list to a tuple\n",
    "\n"
   ]
  },
  {
   "cell_type": "markdown",
   "id": "0960f849-0044-49d0-a8aa-0e185c3b02e6",
   "metadata": {},
   "source": [
    "Answer== 4"
   ]
  },
  {
   "cell_type": "markdown",
   "id": "ed6fb57b-cb0b-4e89-a5f8-d209df991618",
   "metadata": {},
   "source": [
    "Step 1: Create a Python Script\n",
    "\n",
    " 1 . Open a text editor or code editor of your choice (e.g., Notepad, Visual Studio Code, Sublime Text, or any other text editor).\n",
    "\n",
    " 2 . Write your Python code in the editor. For example, you can create a simple \"Hello, World!\" script:"
   ]
  },
  {
   "cell_type": "code",
   "execution_count": 1,
   "id": "65ca2db4-0651-416d-a449-dee55db4244e",
   "metadata": {},
   "outputs": [
    {
     "name": "stdout",
     "output_type": "stream",
     "text": [
      "Hello, World! \n"
     ]
    }
   ],
   "source": [
    "print(\"Hello, World! \")"
   ]
  },
  {
   "cell_type": "code",
   "execution_count": null,
   "id": "79e6c24e-0fc7-4cb8-9b77-d3bd38f65678",
   "metadata": {},
   "outputs": [],
   "source": [
    " 3 . Save the file with a .py extension. For example, save it as hello.py.\n",
    "\n",
    "Step 2: Open the Command Line\n",
    "\n",
    " 1 . On Windows:\n",
    "\n",
    ". Press the Win key to open the Start menu.\n",
    ". Type \"cmd\" or \"Command Prompt\" and press Enter. This will open the Command Prompt.\n",
    " 2 . On macOS:\n",
    "\n",
    ". Press Cmd + Space to open Spotlight Search.\n",
    ". Type \"Terminal\" and press Enter. This will open the Terminal.\n",
    "3 . On Linux:\n",
    "\n",
    ". You can usually open the terminal by pressing Ctrl + Alt + T or by searching for \"Terminal\" in your application launcher.\n",
    "Step 3: Navigate to the Script's Directory\n",
    "\n",
    "Use the cd command (change directory) to navigate to the directory where your Python script is located. For example"
   ]
  },
  {
   "cell_type": "markdown",
   "id": "0d2a34e8-ebbb-42d5-8488-7530b5810468",
   "metadata": {},
   "source": [
    "Replace ' path/to/your/script/directory' with the actual path to the directory containing your ' hello . py ' scrip."
   ]
  },
  {
   "cell_type": "code",
   "execution_count": null,
   "id": "4c5f1031-6879-4657-a1ce-afb8ce6296d7",
   "metadata": {},
   "outputs": [],
   "source": [
    "Step 4 : Execute the python Script\n",
    "\n",
    "Once you are in the correct directory, you can execute the python script by entering the following command in the command line."
   ]
  },
  {
   "cell_type": "markdown",
   "id": "5a3b0b94-3482-48ca-8543-9c1b2708e7f2",
   "metadata": {},
   "source": [
    "Answer== 5 "
   ]
  },
  {
   "cell_type": "code",
   "execution_count": 3,
   "id": "af971774-7407-4990-afa5-71d80887e470",
   "metadata": {},
   "outputs": [
    {
     "name": "stdout",
     "output_type": "stream",
     "text": [
      "[2, 3]\n"
     ]
    }
   ],
   "source": [
    "my_list = [ 1, 2, 3, 4, 5]\n",
    "sub_list = my_list[1:3]\n",
    "\n",
    "print(sub_list)"
   ]
  },
  {
   "cell_type": "markdown",
   "id": "98096fbf-6860-47b7-ae69-ca7f4d1ee8b6",
   "metadata": {},
   "source": [
    "Answer== 6"
   ]
  },
  {
   "cell_type": "markdown",
   "id": "035933dc-b92f-4e25-8e57-c9c3acdda40b",
   "metadata": {},
   "source": [
    "In mathematics, a complex number is a number that can be expressed in the form 'a + bi', where 'a' and 'b' are real numbers, and 'i' represents the imaginary unit, which is defined as the square root of '-1'. The real part of the complex number is 'a', and the imaginary part is 'b'. Complex numbers are used to represent quantities that have both a real component and an imaginary component and find extensive applications in various fields, including physics, engineering, and mathematics.\n",
    "\n",
    "In Python, complex numbers are represented using the complex data type. You can create complex numbers by using the complex() constructor or by directly specifying the real and imaginary parts within parentheses. Here are a few examples:\n",
    "\n",
    "\n"
   ]
  },
  {
   "cell_type": "code",
   "execution_count": 4,
   "id": "f7f7753c-9fe5-4251-a8a5-d526468291fb",
   "metadata": {},
   "outputs": [],
   "source": [
    "# Create a complex number\n",
    "z = 3 + 2j"
   ]
  },
  {
   "cell_type": "markdown",
   "id": "540e24ab-73f0-440d-9e57-ce1d0b1ac20a",
   "metadata": {},
   "source": [
    "Answer== 7"
   ]
  },
  {
   "cell_type": "markdown",
   "id": "ecf060a9-6889-4ee1-9bd8-54846017b7b2",
   "metadata": {},
   "source": [
    "The correct way to declare a variable named age and assign the value 25 to it in Python is as follows:\n",
    "\n"
   ]
  },
  {
   "cell_type": "code",
   "execution_count": 5,
   "id": "18cabe8b-9692-4686-9156-374597962aa0",
   "metadata": {},
   "outputs": [],
   "source": [
    "age = 25"
   ]
  },
  {
   "cell_type": "markdown",
   "id": "98d65379-e945-4b7d-8539-87da194c611f",
   "metadata": {},
   "source": [
    "In this line of code:\n",
    "\n",
    ". 'age' is the variable name.\n",
    ". '=' is the assignment operator, used to assign a value to the variable.\n",
    ". '25' is the value assigned to the variable 'age'.\n",
    "After executing this line of code, the variable 'age' will hold the value '25'. You can then use this variable in your Python program as needed."
   ]
  },
  {
   "cell_type": "markdown",
   "id": "1d12d762-a847-4fe4-bccf-6fd3dd19cfd5",
   "metadata": {},
   "source": [
    "Answer== 8"
   ]
  },
  {
   "cell_type": "markdown",
   "id": "32386330-5737-4ae4-bfad-765344c0d304",
   "metadata": {},
   "source": [
    "To declare a variable named 'price' and assign the value '9.99' to it in Python, you would use the following code:\n",
    "\n",
    "\n",
    "In this code:\n",
    "\n",
    ". 'price' is the variable name.\n",
    ". '=' is the assignment operator.\n",
    ". '9.99' is the value assigned to the variable 'price'.\n",
    "The variable price belongs to the data type \"float.\" This is because '9.99' is a decimal number, and in Python, decimal numbers are represented as floating-point values. Floats are used to store real numbers, including those with fractional parts.\n",
    "\n",
    "\n",
    "\n",
    "\n"
   ]
  },
  {
   "cell_type": "code",
   "execution_count": 1,
   "id": "f64e2e6e-8db3-4fc1-a695-2681dc485e3e",
   "metadata": {},
   "outputs": [],
   "source": [
    "price = 9.99"
   ]
  },
  {
   "cell_type": "markdown",
   "id": "68ee3c1c-88e9-450f-93e3-936dee5e28ac",
   "metadata": {},
   "source": [
    "Answer== 9\n"
   ]
  },
  {
   "cell_type": "code",
   "execution_count": 2,
   "id": "a89d93da-bf80-435a-9cbd-e2fa79c08af2",
   "metadata": {},
   "outputs": [],
   "source": [
    "name = \"your Full Name\""
   ]
  },
  {
   "cell_type": "raw",
   "id": "d6578359-5534-433b-99d1-fdd35e7a6b66",
   "metadata": {},
   "source": [
    "Replace \"Your Full Nme\" with your actual full name.\n",
    "\n",
    "To print the value of the 'name' variable, you can use the 'print()' function:"
   ]
  },
  {
   "cell_type": "code",
   "execution_count": 3,
   "id": "077b810f-d0b0-4c0b-855b-e31019caf437",
   "metadata": {},
   "outputs": [
    {
     "name": "stdout",
     "output_type": "stream",
     "text": [
      "your Full Name\n"
     ]
    }
   ],
   "source": [
    "print(name)"
   ]
  },
  {
   "cell_type": "raw",
   "id": "dcae1192-5415-478e-8268-807630859d03",
   "metadata": {},
   "source": [
    "For example, if your name is \"John Doe\", you would write:"
   ]
  },
  {
   "cell_type": "code",
   "execution_count": 4,
   "id": "b2992fbc-095d-4c91-a0d9-6b23721fe254",
   "metadata": {},
   "outputs": [
    {
     "name": "stdout",
     "output_type": "stream",
     "text": [
      "John Doe\n"
     ]
    }
   ],
   "source": [
    "name = \"John Doe\"\n",
    "print(name)"
   ]
  },
  {
   "cell_type": "raw",
   "id": "149d2dac-9fb5-4f7c-9463-e07557f19821",
   "metadata": {},
   "source": [
    "Answer== 10"
   ]
  },
  {
   "cell_type": "code",
   "execution_count": 5,
   "id": "10ea35b3-59c6-4898-80d9-6b955276e5ab",
   "metadata": {},
   "outputs": [
    {
     "name": "stdout",
     "output_type": "stream",
     "text": [
      "World!\n"
     ]
    }
   ],
   "source": [
    "original_string = \"Hello, World!\"\n",
    "substring = original_string[7:]  # Start from index 7 to the end\n",
    "\n",
    "print(substring)"
   ]
  },
  {
   "cell_type": "raw",
   "id": "a77d56e5-a0bd-46bc-a5fc-488b470baa7c",
   "metadata": {},
   "source": [
    "In this code:\n",
    "\n",
    ". 'original_string' contains the original string, \"Hello, World!\".\n",
    ". 'original_string[7:]' extracts a substring starting from index 7 (inclusive) to the end of the string.\n",
    "When you run this code, it will print \"World!\" to the console, which is the extracted substring from the original string."
   ]
  },
  {
   "cell_type": "markdown",
   "id": "fb052244-3eff-4f17-aaa9-a830b528d90b",
   "metadata": {},
   "source": [
    "Answer== 11"
   ]
  },
  {
   "cell_type": "code",
   "execution_count": 6,
   "id": "b327f250-395a-4244-952f-ff9c7e0b8c8f",
   "metadata": {},
   "outputs": [],
   "source": [
    "is_student = True  # If you are currently a student\n",
    "# or\n",
    "is_student = False  # If you are not currently a student"
   ]
  },
  {
   "cell_type": "raw",
   "id": "8db4bca0-41aa-4103-a407-a7efa0f647c0",
   "metadata": {},
   "source": [
    "Choose the appropriate option (True or False) based on your current student status. This variable will now hold a boolean value that can be used in your Python program to make decisions or perform conditional operations."
   ]
  }
 ],
 "metadata": {
  "kernelspec": {
   "display_name": "Python 3 (ipykernel)",
   "language": "python",
   "name": "python3"
  },
  "language_info": {
   "codemirror_mode": {
    "name": "ipython",
    "version": 3
   },
   "file_extension": ".py",
   "mimetype": "text/x-python",
   "name": "python",
   "nbconvert_exporter": "python",
   "pygments_lexer": "ipython3",
   "version": "3.10.8"
  }
 },
 "nbformat": 4,
 "nbformat_minor": 5
}
